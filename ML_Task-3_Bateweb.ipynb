{
 "cells": [
  {
   "cell_type": "code",
   "execution_count": 10,
   "id": "b8b437d3",
   "metadata": {},
   "outputs": [],
   "source": [
    "import pandas as pd\n",
    "import numpy as np"
   ]
  },
  {
   "cell_type": "code",
   "execution_count": 2,
   "id": "65c61318",
   "metadata": {},
   "outputs": [
    {
     "name": "stdout",
     "output_type": "stream",
     "text": [
      "    Name  Age  Gender      City\n",
      "0   John   56  Female  New York\n",
      "1  Alice   46  Female  New York\n",
      "2  Alice   32    Male  New York\n",
      "3    Bob   60    Male  New York\n",
      "4   John   25    Male   Chicago\n",
      "       Name  Age  Gender      City\n",
      "95     Jane   24    Male   Chicago\n",
      "96      Bob   26  Female   Houston\n",
      "97     John   41  Female  New York\n",
      "98     Jane   18    Male   Houston\n",
      "99  Charlie   61  Female   Chicago\n"
     ]
    }
   ],
   "source": [
    "df = pd.read_csv('example_data.csv')\n",
    "print(df.head())\n",
    "\n",
    "print(df.tail())"
   ]
  },
  {
   "cell_type": "code",
   "execution_count": 3,
   "id": "9883d48d",
   "metadata": {},
   "outputs": [
    {
     "name": "stdout",
     "output_type": "stream",
     "text": [
      "0        John\n",
      "1       Alice\n",
      "2       Alice\n",
      "3         Bob\n",
      "4        John\n",
      "       ...   \n",
      "95       Jane\n",
      "96        Bob\n",
      "97       John\n",
      "98       Jane\n",
      "99    Charlie\n",
      "Name: Name, Length: 100, dtype: object\n",
      "       Name  Age\n",
      "0      John   56\n",
      "1     Alice   46\n",
      "2     Alice   32\n",
      "3       Bob   60\n",
      "4      John   25\n",
      "..      ...  ...\n",
      "95     Jane   24\n",
      "96      Bob   26\n",
      "97     John   41\n",
      "98     Jane   18\n",
      "99  Charlie   61\n",
      "\n",
      "[100 rows x 2 columns]\n"
     ]
    }
   ],
   "source": [
    "name_column = df['Name']\n",
    "print(name_column)\n",
    "\n",
    "subset_df = df[['Name', 'Age']]\n",
    "print(subset_df)"
   ]
  },
  {
   "cell_type": "code",
   "execution_count": 4,
   "id": "f7c56a72",
   "metadata": {},
   "outputs": [
    {
     "name": "stdout",
     "output_type": "stream",
     "text": [
      "       Name  Age  Gender         City\n",
      "84    Alice   64  Female     New York\n",
      "34     John   64    Male  Los Angeles\n",
      "55    Alice   64    Male      Chicago\n",
      "51  Charlie   64    Male      Chicago\n",
      "92      Bob   62  Female     New York\n",
      "..      ...  ...     ...          ...\n",
      "48    Alice   19    Male      Phoenix\n",
      "17     John   19    Male      Chicago\n",
      "22     John   19    Male  Los Angeles\n",
      "93    Alice   18  Female      Chicago\n",
      "98     Jane   18    Male      Houston\n",
      "\n",
      "[100 rows x 4 columns]\n",
      "       Name  Age  Gender      City  New_Column\n",
      "0      John   56  Female  New York         112\n",
      "1     Alice   46  Female  New York          92\n",
      "2     Alice   32    Male  New York          64\n",
      "3       Bob   60    Male  New York         120\n",
      "4      John   25    Male   Chicago          50\n",
      "..      ...  ...     ...       ...         ...\n",
      "95     Jane   24    Male   Chicago          48\n",
      "96      Bob   26  Female   Houston          52\n",
      "97     John   41  Female  New York          82\n",
      "98     Jane   18    Male   Houston          36\n",
      "99  Charlie   61  Female   Chicago         122\n",
      "\n",
      "[100 rows x 5 columns]\n",
      "       Name  Age  Gender      City\n",
      "0      John   56  Female  New York\n",
      "1     Alice   46  Female  New York\n",
      "2     Alice   32    Male  New York\n",
      "3       Bob   60    Male  New York\n",
      "4      John   25    Male   Chicago\n",
      "..      ...  ...     ...       ...\n",
      "95     Jane   24    Male   Chicago\n",
      "96      Bob   26  Female   Houston\n",
      "97     John   41  Female  New York\n",
      "98     Jane   18    Male   Houston\n",
      "99  Charlie   61  Female   Chicago\n",
      "\n",
      "[100 rows x 4 columns]\n",
      "Name      0\n",
      "Age       0\n",
      "Gender    0\n",
      "City      0\n",
      "dtype: int64\n",
      "       Name  Age  Gender      City\n",
      "0      John   56  Female  New York\n",
      "1     Alice   46  Female  New York\n",
      "2     Alice   32    Male  New York\n",
      "3       Bob   60    Male  New York\n",
      "4      John   25    Male   Chicago\n",
      "..      ...  ...     ...       ...\n",
      "95     Jane   24    Male   Chicago\n",
      "96      Bob   26  Female   Houston\n",
      "97     John   41  Female  New York\n",
      "98     Jane   18    Male   Houston\n",
      "99  Charlie   61  Female   Chicago\n",
      "\n",
      "[100 rows x 4 columns]\n"
     ]
    }
   ],
   "source": [
    "sorted_df = df.sort_values(by='Age', ascending=False)\n",
    "print(sorted_df)\n",
    "\n",
    "df['New_Column'] = df['Age'] * 2\n",
    "print(df)\n",
    "\n",
    "df.drop('New_Column', axis=1, inplace=True)\n",
    "print(df)\n",
    "\n",
    "print(df.isnull().sum())\n",
    "\n",
    "df_filled = df.fillna(0)\n",
    "print(df_filled)"
   ]
  },
  {
   "cell_type": "code",
   "execution_count": 5,
   "id": "a22e14d6",
   "metadata": {},
   "outputs": [
    {
     "name": "stdout",
     "output_type": "stream",
     "text": [
      "['New York' 'Chicago' 'Houston' 'Phoenix' 'Los Angeles']\n",
      "New York       31\n",
      "Chicago        24\n",
      "Houston        22\n",
      "Los Angeles    14\n",
      "Phoenix         9\n",
      "Name: City, dtype: int64\n",
      "       Name  Age  Gender         City\n",
      "4      John   25    Male      Chicago\n",
      "9      Jane   28    Male      Chicago\n",
      "10     Jane   28    Male      Chicago\n",
      "15     John   20    Male  Los Angeles\n",
      "17     John   19    Male      Chicago\n",
      "22     John   19    Male  Los Angeles\n",
      "25      Bob   29    Male  Los Angeles\n",
      "36    Alice   20    Male      Phoenix\n",
      "38      Bob   24    Male     New York\n",
      "40      Bob   26    Male  Los Angeles\n",
      "43    Alice   21  Female  Los Angeles\n",
      "46  Charlie   26  Female      Chicago\n",
      "48    Alice   19    Male      Phoenix\n",
      "52     John   24  Female     New York\n",
      "54      Bob   25  Female      Houston\n",
      "61      Bob   21  Female      Houston\n",
      "62     Jane   19    Male      Chicago\n",
      "63     John   23  Female  Los Angeles\n",
      "65     Jane   21  Female      Chicago\n",
      "71     Jane   27    Male     New York\n",
      "76      Bob   25    Male  Los Angeles\n",
      "93    Alice   18  Female      Chicago\n",
      "95     Jane   24    Male      Chicago\n",
      "96      Bob   26  Female      Houston\n",
      "98     Jane   18    Male      Houston\n"
     ]
    }
   ],
   "source": [
    "unique_cities = df['City'].unique()\n",
    "print(unique_cities)\n",
    "\n",
    "city_counts = df['City'].value_counts()\n",
    "print(city_counts)\n",
    "\n",
    "young_people = df[df['Age'] < 30]\n",
    "print(young_people)"
   ]
  },
  {
   "cell_type": "code",
   "execution_count": 6,
   "id": "fdf9e1c5",
   "metadata": {},
   "outputs": [
    {
     "name": "stdout",
     "output_type": "stream",
     "text": [
      "       Name  Age  Gender      City\n",
      "0      John   56  Female  New York\n",
      "1     Alice   46  Female  New York\n",
      "2     Alice   32    Male  New York\n",
      "3       Bob   60    Male  New York\n",
      "4      John   25    Male   Chicago\n",
      "..      ...  ...     ...       ...\n",
      "95     Jane   24    Male   Chicago\n",
      "96      Bob   26  Female   Houston\n",
      "97     John   41  Female  New York\n",
      "98     Jane   18    Male   Houston\n",
      "99  Charlie   61  Female   Chicago\n",
      "\n",
      "[100 rows x 4 columns]\n",
      "       Name  Years  Gender      City\n",
      "0      John     56  Female  New York\n",
      "1     Alice     46  Female  New York\n",
      "2     Alice     32    Male  New York\n",
      "3       Bob     60    Male  New York\n",
      "4      John     25    Male   Chicago\n",
      "..      ...    ...     ...       ...\n",
      "95     Jane     24    Male   Chicago\n",
      "96      Bob     26  Female   Houston\n",
      "97     John     41  Female  New York\n",
      "98     Jane     18    Male   Houston\n",
      "99  Charlie     61  Female   Chicago\n",
      "\n",
      "[100 rows x 4 columns]\n",
      "40.88\n",
      "John       24\n",
      "Bob        20\n",
      "Alice      19\n",
      "Jane       19\n",
      "Charlie    18\n",
      "Name: Name, dtype: int64\n"
     ]
    }
   ],
   "source": [
    "df_reset_index = df.reset_index(drop=True)\n",
    "print(df_reset_index)\n",
    "\n",
    "df.rename(columns={'Age': 'Years'}, inplace=True)\n",
    "print(df)\n",
    "\n",
    "mean_age = df['Years'].mean()\n",
    "print(mean_age)\n",
    "\n",
    "name_counts = df['Name'].value_counts()\n",
    "print(name_counts)"
   ]
  },
  {
   "cell_type": "code",
   "execution_count": 13,
   "id": "11c3ee2d",
   "metadata": {},
   "outputs": [],
   "source": [
    "df.to_csv('modified_data.csv', index=False)"
   ]
  }
 ],
 "metadata": {
  "kernelspec": {
   "display_name": "Python 3 (ipykernel)",
   "language": "python",
   "name": "python3"
  },
  "language_info": {
   "codemirror_mode": {
    "name": "ipython",
    "version": 3
   },
   "file_extension": ".py",
   "mimetype": "text/x-python",
   "name": "python",
   "nbconvert_exporter": "python",
   "pygments_lexer": "ipython3",
   "version": "3.9.12"
  }
 },
 "nbformat": 4,
 "nbformat_minor": 5
}
